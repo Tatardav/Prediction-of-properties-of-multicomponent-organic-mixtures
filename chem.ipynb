{
  "cells": [
    {
      "cell_type": "code",
      "execution_count": 8,
      "id": "d4aae20d-8531-4b27-9460-b84a8be60c04",
      "metadata": {
        "id": "d4aae20d-8531-4b27-9460-b84a8be60c04"
      },
      "outputs": [],
      "source": [
        "import pandas as pd\n",
        "import numpy as np\n",
        "from sklearn.metrics import mean_absolute_error\n",
        "from sklearn.model_selection import KFold"
      ]
    },
    {
      "cell_type": "markdown",
      "source": [
        "Создание векторов из smiles"
      ],
      "metadata": {
        "id": "rQkPMi0iwIPa"
      },
      "id": "rQkPMi0iwIPa"
    },
    {
      "cell_type": "code",
      "source": [
        "from transformers import AutoTokenizer, AutoModel\n",
        "tokenizer = AutoTokenizer.from_pretrained(\"seyonec/PubChem10M_SMILES_BPE_450k\")\n",
        "model1 = AutoModel.from_pretrained(\"seyonec/PubChem10M_SMILES_BPE_450k\")\n",
        "test_df_smiles = pd.read_csv('/content/smiles_test_set_public.csv')\n",
        "df_smiles = pd.read_csv('/content/smiles_train_set.csv')\n",
        "def smiles_to_vector(smiles_list):\n",
        "    inputs = tokenizer(smiles_list, padding=True, truncation=True, return_tensors=\"pt\", max_length=512)\n",
        "\n",
        "    with torch.no_grad():\n",
        "        outputs = model1(**inputs)\n",
        "\n",
        "    vectors = outputs.last_hidden_state.mean(dim=1)\n",
        "    return vectors\n",
        "\n",
        "\n",
        "vector_list = []\n",
        "test_vector_list = []\n",
        "for smiles in test_df_smiles['smiles']:\n",
        "    test_vector= smiles_to_vector([smiles])\n",
        "    test_vector_list.append(test_vector.squeeze().numpy())\n",
        "for smiles in df_smiles['smiles']:\n",
        "    vector = smiles_to_vector([smiles])\n",
        "    vector_list.append(vector.squeeze().numpy())\n",
        "\n",
        "vector_df = pd.DataFrame(vector_list)\n",
        "test_vector_df = pd.DataFrame(test_vector_list)\n"
      ],
      "metadata": {
        "id": "fzK8UQltwLpD"
      },
      "id": "fzK8UQltwLpD",
      "execution_count": null,
      "outputs": []
    },
    {
      "cell_type": "code",
      "source": [
        "smiles_vector=pd.concat([df_smiles, vector_df], axis=1)\n",
        "columns = smiles_vector.columns.tolist()\n",
        "col = [x for x in columns  if x not in ['smiles',\t'oil_property_param_value', 'blend_id']]\n",
        "new_df_smiles = smiles_vector.groupby('blend_id')[col].sum().reset_index()\n",
        "\n",
        "test_smiles_vector=pd.concat([test_df_smiles, test_vector_df], axis=1)\n",
        "test_columns = test_smiles_vector.columns.tolist()\n",
        "test_col = [x for x in test_columns  if x not in ['smiles',\t'oil_property_param_value', 'blend_id']]\n",
        "new_test_df_smiles = test_smiles_vector.groupby('blend_id')[test_col].sum().reset_index()\n",
        "\n",
        "new_df_smiles.to_csv('train_vectors.csv', index=False)\n",
        "new_test_df_smiles.to_csv('test_vectors.csv', index=False)"
      ],
      "metadata": {
        "id": "Qk21JEdHwrjn"
      },
      "id": "Qk21JEdHwrjn",
      "execution_count": null,
      "outputs": []
    },
    {
      "cell_type": "markdown",
      "source": [
        "Добавление свойств компонентов и финальная предобработка\n",
        "\n"
      ],
      "metadata": {
        "id": "EgVfXwx9xd_6"
      },
      "id": "EgVfXwx9xd_6"
    },
    {
      "cell_type": "code",
      "execution_count": null,
      "id": "6469f55f-f33f-4590-bf7f-73fb14ac7b0a",
      "metadata": {
        "id": "6469f55f-f33f-4590-bf7f-73fb14ac7b0a"
      },
      "outputs": [],
      "source": [
        "smiles_train = pd.read_csv('./smiles_train_set.csv')\n",
        "smiles_test = pd.read_csv('./smiles_test_set_public.csv')\n",
        "train = pd.read_csv('./train_data_fix_concat.csv')\n",
        "test = pd.read_csv('./test_data_fix_concat.csv')\n",
        "df_train_c = pd.read_csv('./blends_train.csv').drop(['Unnamed: 0','ad7e6027-00b8-4c27-918c-d1561f949ad8'], axis=1)\n",
        "df_test_c = pd.read_csv('./blends_test.csv')\n",
        "train_vectors = pd.read_csv('./train_vectors.csv')\n",
        "test_vectors = pd.read_csv('./test_vectors.csv')"
      ]
    },
    {
      "cell_type": "code",
      "execution_count": null,
      "id": "2b01f46c-feea-417b-8d28-aa8a80f874d9",
      "metadata": {
        "id": "2b01f46c-feea-417b-8d28-aa8a80f874d9"
      },
      "outputs": [],
      "source": [
        "df_test_c['target'] = -1\n",
        "df_c = pd.concat([df_train_c, df_test_c])\n",
        "\n",
        "df_train = train[['blend_id', 'component_property_param_title', 'component_property_param_value']].copy(deep=True)\n",
        "df_test = test[['blend_id', 'component_property_param_title', 'component_property_param_value']].copy(deep=True)\n",
        "df = pd.concat([df_train, df_test])\n",
        "\n",
        "info = df.pivot_table(\n",
        "    index = 'blend_id',\n",
        "    values=['component_property_param_value'],\n",
        "    columns=['component_property_param_title'],\n",
        "    aggfunc=['mean', 'count', 'median', 'sum', 'min', 'max']\n",
        ")\n",
        "info.columns = ['_'.join(map(str, x)) for x in info.columns]\n",
        "info.reset_index(inplace=True)\n",
        "\n",
        "info_train = df_train.pivot_table(\n",
        "    index = 'blend_id',\n",
        "    values=['component_property_param_value'],\n",
        "    columns=['component_property_param_title'],\n",
        "    aggfunc=['mean', 'count', 'median', 'sum', 'min', 'max']\n",
        ")\n",
        "info_train.columns = ['_'.join(map(str, x)) for x in info_train.columns]\n",
        "info_train.reset_index(inplace=True)\n",
        "\n",
        "info_test = df_test.pivot_table(\n",
        "    index = 'blend_id',\n",
        "    values=['component_property_param_value'],\n",
        "    columns=['component_property_param_title'],\n",
        "    aggfunc=['mean', 'count', 'median', 'sum', 'min', 'max']\n",
        ")\n",
        "info_test.columns = ['_'.join(map(str, x)) for x in info_test.columns]\n",
        "info_test.reset_index(inplace=True)\n",
        "\n",
        "df = df_c.merge(info[list(set(info_train.columns) & set(info_test.columns))], on='blend_id').dropna(subset='target')\n",
        "df[['oil_type']] = df[['oil_type']].fillna('0')"
      ]
    },
    {
      "cell_type": "code",
      "execution_count": null,
      "id": "56dab657-6123-4805-a748-e74fe59a719b",
      "metadata": {
        "id": "56dab657-6123-4805-a748-e74fe59a719b"
      },
      "outputs": [],
      "source": [
        "df_train = df[df.target!=-1]\n",
        "df_test = df[df.target==-1].drop(['target'], axis=1)"
      ]
    },
    {
      "cell_type": "code",
      "source": [
        "df_train=df_train.merge(train_vectors, how='inner', on='blend_id')\n",
        "df_test=df_test.merge(test_vectors, how='inner', on='blend_id')"
      ],
      "metadata": {
        "id": "ilTDEoDKxPCQ"
      },
      "id": "ilTDEoDKxPCQ",
      "execution_count": null,
      "outputs": []
    },
    {
      "cell_type": "code",
      "source": [
        "!pip install mljar-supervised"
      ],
      "metadata": {
        "id": "BPJgXf59usro"
      },
      "id": "BPJgXf59usro",
      "execution_count": null,
      "outputs": []
    },
    {
      "cell_type": "markdown",
      "source": [
        "Обучение"
      ],
      "metadata": {
        "id": "vcBFBjoHu4CB"
      },
      "id": "vcBFBjoHu4CB"
    },
    {
      "cell_type": "code",
      "execution_count": null,
      "id": "46594f30-8f22-4879-a7e8-e655067ff278",
      "metadata": {
        "scrolled": true,
        "id": "46594f30-8f22-4879-a7e8-e655067ff278"
      },
      "outputs": [],
      "source": [
        "'''from supervised import AutoML\n",
        "automl = AutoML(mode=\"Compete\", algorithms=['Xgboost', 'CatBoost', 'LightGBM'], eval_metric='mae',total_time_limit=3*3600)\n",
        "automl.fit(df_train.drop(['target', 'blend_id'], axis=1), df_train.target)'''"
      ]
    },
    {
      "cell_type": "markdown",
      "source": [
        "Подгрузка весов\n"
      ],
      "metadata": {
        "id": "LGDM9cvQvAQB"
      },
      "id": "LGDM9cvQvAQB"
    },
    {
      "cell_type": "code",
      "source": [
        "automl = AutoML(results_path='./AutoML_best')"
      ],
      "metadata": {
        "id": "tbSGQ18XvFGd"
      },
      "id": "tbSGQ18XvFGd",
      "execution_count": null,
      "outputs": []
    },
    {
      "cell_type": "code",
      "execution_count": null,
      "id": "7d23886e-203f-4186-92dd-7641ba08a6b2",
      "metadata": {
        "scrolled": true,
        "id": "7d23886e-203f-4186-92dd-7641ba08a6b2"
      },
      "outputs": [],
      "source": [
        "predicts = automl.predict(df_test.drop('blend_id', axis=1))"
      ]
    },
    {
      "cell_type": "code",
      "execution_count": null,
      "id": "35e6eac3-8feb-445e-a1b6-0679a834a7ea",
      "metadata": {
        "id": "35e6eac3-8feb-445e-a1b6-0679a834a7ea"
      },
      "outputs": [],
      "source": [
        "submission = pd.DataFrame(zip(df_test.blend_id, predicts), columns=['blend_id', 'target'])\n",
        "submission.to_csv('./submission.csv', sep=',', index=False)\n",
        "submission"
      ]
    }
  ],
  "metadata": {
    "kernelspec": {
      "display_name": "Python 3 (ipykernel)",
      "language": "python",
      "name": "python3"
    },
    "language_info": {
      "codemirror_mode": {
        "name": "ipython",
        "version": 3
      },
      "file_extension": ".py",
      "mimetype": "text/x-python",
      "name": "python",
      "nbconvert_exporter": "python",
      "pygments_lexer": "ipython3",
      "version": "3.11.8"
    },
    "colab": {
      "provenance": []
    }
  },
  "nbformat": 4,
  "nbformat_minor": 5
}